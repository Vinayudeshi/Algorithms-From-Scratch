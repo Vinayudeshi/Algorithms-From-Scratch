{
 "cells": [
  {
   "cell_type": "markdown",
   "metadata": {},
   "source": [
    "## Implementing Simple Linear Regression from Scratch"
   ]
  },
  {
   "cell_type": "markdown",
   "metadata": {},
   "source": [
    "#### Functions I will be writting for Simple Linear Regression Algorithm. \n",
    "\n",
    "1. Cost Function - I will be using the MSE to calculate the costs.\n",
    "2. Gradient Function - This function will be used in the gradient descent algorithm to find Gradient. \n",
    "3. Gradient Descent Algorithm - To find the parameters with the least costs.\n",
    "4. R square - So that I can check how good of a fit is my line on the data"
   ]
  },
  {
   "cell_type": "code",
   "execution_count": 45,
   "metadata": {},
   "outputs": [],
   "source": [
    "# Step 0: Importing all of the necessary Libraries.\n",
    "import numpy as np \n",
    "import matplotlib.pylab as plt"
   ]
  },
  {
   "cell_type": "code",
   "execution_count": 46,
   "metadata": {},
   "outputs": [],
   "source": [
    "## Step 1 : Getting the dataset.\n",
    "x_train = np.array([1.0, 2.0])   #features\n",
    "y_train = np.array([300.0, 500.0])   #output values\n",
    "\n",
    "# Step 2 : innitialising the parameters \n",
    "w = 0\n",
    "b = 0"
   ]
  },
  {
   "cell_type": "code",
   "execution_count": 47,
   "metadata": {},
   "outputs": [],
   "source": [
    "# Step 3: Coding the cost function. \n",
    "def computing_costs(x,y,w,b):\n",
    "    m = x.shape[0]\n",
    "    cost = 0\n",
    "    for i in range(m):\n",
    "        yhat = (x[i] * w) + b\n",
    "        cost += (yhat - y[i]) ** 2\n",
    "\n",
    "    total_cost *= (1 / (2 * m))\n",
    "    return total_cost"
   ]
  },
  {
   "cell_type": "code",
   "execution_count": 48,
   "metadata": {},
   "outputs": [],
   "source": [
    "# Step 4: Computing gradient.\n",
    "def compute_gradient(x,y,w,b):\n",
    "    m = x.shape[0]\n",
    "    dj_dw = 0\n",
    "    dj_db = 0\n",
    "    for i in range(m):\n",
    "        yhat = (x[i] * w) + b\n",
    "        dj_dw += ((yhat - y[i]) * x[i])\n",
    "        dj_db += (yhat - y[i])\n",
    "\n",
    "    dj_dw *= (1/m)\n",
    "    dj_db *= (1/m)\n",
    "\n",
    "    return dj_dw, dj_db"
   ]
  },
  {
   "cell_type": "code",
   "execution_count": 49,
   "metadata": {},
   "outputs": [],
   "source": [
    "# Step 5: Gradient Descent.\n",
    "def gradient_descent(x,y,w,b,alpha,iters):\n",
    "    \n",
    "\n",
    "    for i in range(iters):\n",
    "        dj_dw, dj_db = compute_gradient(x,y,w,b)\n",
    "        w = w - (alpha * dj_dw)\n",
    "        b = b - (alpha * dj_db)\n",
    "\n",
    "    return w,b "
   ]
  },
  {
   "cell_type": "code",
   "execution_count": 50,
   "metadata": {},
   "outputs": [],
   "source": [
    "# Step 6: R Square.\n",
    "def R_square(x,y,w,b):\n",
    "    m = x.shape[0]\n",
    "    y_mean = np.sum(y)/ len(y)\n",
    "    SSR = 0\n",
    "    SST = 0\n",
    "    for i in range(m):\n",
    "        yhat = (x[i] * w) + b\n",
    "        SSR += (y[i] - yhat) ** 2\n",
    "        SST += (y[i] - y_mean) ** 2\n",
    "\n",
    "    r_square = 1 - (SSR / SST)\n",
    "    return r_square"
   ]
  },
  {
   "cell_type": "code",
   "execution_count": 51,
   "metadata": {},
   "outputs": [
    {
     "name": "stdout",
     "output_type": "stream",
     "text": [
      "199.99285075131766 100.011567727362\n",
      "0.9999999986509971\n"
     ]
    }
   ],
   "source": [
    "# Step 7: Confirming that the algorithm works properly. \n",
    "# some gradient descent settings\n",
    "iterations = 10000\n",
    "tmp_alpha = 0.01\n",
    "# running gradient descent\n",
    "w_final, b_final = gradient_descent(x_train ,y_train, w, b, tmp_alpha, iterations)\n",
    "print(w_final,b_final)\n",
    "\n",
    "print(R_square(x_train ,y_train, w_final, b_final))"
   ]
  },
  {
   "cell_type": "code",
   "execution_count": 55,
   "metadata": {},
   "outputs": [
    {
     "data": {
      "text/plain": [
       "<matplotlib.legend.Legend at 0x120993e00>"
      ]
     },
     "execution_count": 55,
     "metadata": {},
     "output_type": "execute_result"
    },
    {
     "data": {
      "image/png": "[encoded data removed]",
      "text/plain": [
       "<Figure size 640x480 with 1 Axes>"
      ]
     },
     "metadata": {},
     "output_type": "display_data"
    }
   ],
   "source": [
    "# Step 8: Lastly lets just plot and visualise the line. \n",
    "y_final = np.dot(x_train,w_final) + b_final\n",
    "\n",
    "plt.scatter(x_train,y_train, c = 'r', label = \"Actual points\")\n",
    "plt.plot(x_train,y_final ,c = \"b\", label =\"Prediction Line\")\n",
    "plt.legend()\n"
   ]
  }
 ],
 "metadata": {
  "kernelspec": {
   "display_name": "Python 3",
   "language": "python",
   "name": "python3"
  },
  "language_info": {
   "codemirror_mode": {
    "name": "ipython",
    "version": 3
   },
   "file_extension": ".py",
   "mimetype": "text/x-python",
   "name": "python",
   "nbconvert_exporter": "python",
   "pygments_lexer": "ipython3",
   "version": "3.12.0"
  }
 },
 "nbformat": 4,
 "nbformat_minor": 2
}
