{
 "cells": [
  {
   "cell_type": "markdown",
   "metadata": {},
   "source": [
    "## Implementing Multiple Linear Regression from Scratch with Regularisation"
   ]
  },
  {
   "cell_type": "markdown",
   "metadata": {},
   "source": [
    "#### Functions I will be writting for Multiple Linear Regression Algorithm. \n",
    "\n",
    "1. Cost Function - I will be using the MSE to calculate the costs with Regularisation.\n",
    "2. Gradient Function - This function will be used in the gradient descent algorithm to find Gradient. \n",
    "3. Gradient Descent Algorithm - To find the parameters with the least costs.\n",
    "4. Adjusted R square - To know how our algorithm is performing. "
   ]
  },
  {
   "cell_type": "code",
   "execution_count": 17,
   "metadata": {},
   "outputs": [],
   "source": [
    "# Step 0: Importing all of the necessary Libraries.\n",
    "import numpy as np "
   ]
  },
  {
   "cell_type": "code",
   "execution_count": 18,
   "metadata": {},
   "outputs": [],
   "source": [
    "# Step 1: Getting the data.\n",
    "X_train = np.array([[2104, 5, 1, 45], [1416, 3, 2, 40], [852, 2, 1, 35]])\n",
    "y_train = np.array([460, 232, 178])"
   ]
  },
  {
   "cell_type": "code",
   "execution_count": 19,
   "metadata": {},
   "outputs": [],
   "source": [
    "# Step 2: Innitialising Random values of w's and b.\n",
    "b_init = 785.1811367994083\n",
    "w_init = np.array([ 0.39133535, 18.75376741, -53.36032453, -26.42131618])"
   ]
  },
  {
   "cell_type": "code",
   "execution_count": 20,
   "metadata": {},
   "outputs": [],
   "source": [
    "# Step 3: Calculating yhat.\n",
    "def compute_yhat(x,w,b):\n",
    "\n",
    "    yhat = np.dot(x,w) + b\n",
    "    \n",
    "    return yhat"
   ]
  },
  {
   "cell_type": "code",
   "execution_count": 21,
   "metadata": {},
   "outputs": [],
   "source": [
    "# Step 4: Computing costs.\n",
    "def computing_costs(x,y,w,b,lambda_):\n",
    "    m = x.shape[0]\n",
    "    n = x.shape[1]\n",
    "    cost = 0\n",
    "    for i in range(m):\n",
    "        yhat = compute_yhat(x[i],w,b)\n",
    "        cost += (yhat - y[i]) ** 2\n",
    "    reg_cost = 0\n",
    "\n",
    "    for j in range(n):\n",
    "        reg_cost += (w[j] ** 2)\n",
    "\n",
    "    total_cost = (1 / (2 * m)) * cost\n",
    "    total_cost += (lambda_/ (2 * m)) * reg_cost\n",
    "\n",
    "    return total_cost\n",
    "    \n"
   ]
  },
  {
   "cell_type": "code",
   "execution_count": 22,
   "metadata": {},
   "outputs": [],
   "source": [
    "# Step 5: Computing Gradient.\n",
    "def computing_gradient(x,y,w,b,lambda_):\n",
    "    m = x.shape[0]\n",
    "    n = x.shape[1]\n",
    "    dj_dw = np.zeros(n)\n",
    "    dj_db = 0\n",
    "\n",
    "    for i in range(m):\n",
    "        yhat = np.dot(x[i],w) + b\n",
    "        error = yhat - y[i]\n",
    "        # Loop to add errors of each columns for their respective dj_dw.\n",
    "        for j in range(n):\n",
    "            dj_dw[j] += (error * x[i,j]) \n",
    "    \n",
    "        dj_db += error\n",
    "\n",
    "        # Adding the Regularised Term\n",
    "        for j in range(n):\n",
    "            dj_dw[j] += ((lambda_ / m) * w[j])\n",
    "\n",
    "\n",
    "    dj_dw *= (1/m)\n",
    "    dj_db *= (1/m)\n",
    "\n",
    "    return dj_dw, dj_db\n"
   ]
  },
  {
   "cell_type": "code",
   "execution_count": 23,
   "metadata": {},
   "outputs": [],
   "source": [
    "# Step 6: Gradient descent.\n",
    "def gradient_descent(x,y,w,b,alpha,iters,lambda_):\n",
    "\n",
    "    for i in range(iters):\n",
    "        dj_dw, dj_db = computing_gradient(x,y,w,b,lambda_)\n",
    "\n",
    "        w -= (alpha * dj_dw)\n",
    "        b -= (alpha * dj_db)\n",
    "\n",
    "    return w, b"
   ]
  },
  {
   "cell_type": "code",
   "execution_count": 24,
   "metadata": {},
   "outputs": [],
   "source": [
    "# Step 7: Computing Adjusted R square.\n",
    "def adjusted_R_square(x,y,w,b,N,P):\n",
    "    m = x.shape[0]\n",
    "    y_mean = np.sum(y)/ len(y)\n",
    "    SSR = 0\n",
    "    SST = 0\n",
    "    for i in range(m):\n",
    "        yhat = np.dot(x[i], w) + b\n",
    "        SSR += (y[i] - yhat) ** 2\n",
    "        SST += (y[i] - y_mean) ** 2\n",
    "\n",
    "    r_square = 1 - (SSR / SST)\n",
    "    \n",
    "    Adj_r_square = ((1 - ((1 - r_square) * (N - 1))) / (N - P - 1))\n",
    "\n",
    "    return Adj_r_square"
   ]
  },
  {
   "cell_type": "code",
   "execution_count": 31,
   "metadata": {},
   "outputs": [
    {
     "name": "stdout",
     "output_type": "stream",
     "text": [
      "[ 0.20394809  0.00372203 -0.01115445 -0.06527818]\n",
      "-0.002233660624724541\n"
     ]
    }
   ],
   "source": [
    "# Step 8: Confirming that the algorithm works properly. \n",
    "# initialize parameters\n",
    "initial_w = np.zeros_like(w_init)\n",
    "initial_b = 0.\n",
    "lambda_ = 100\n",
    "# some gradient descent settings\n",
    "iterations = 1000\n",
    "alpha = 5.0e-7\n",
    "# run gradient descent \n",
    "w_final, b_final = gradient_descent(X_train, y_train, initial_w, initial_b, alpha, iterations,lambda_)\n",
    "print(w_final)\n",
    "print(b_final)\n",
    "\n"
   ]
  }
 ],
 "metadata": {
  "kernelspec": {
   "display_name": "Python 3",
   "language": "python",
   "name": "python3"
  },
  "language_info": {
   "codemirror_mode": {
    "name": "ipython",
    "version": 3
   },
   "file_extension": ".py",
   "mimetype": "text/x-python",
   "name": "python",
   "nbconvert_exporter": "python",
   "pygments_lexer": "ipython3",
   "version": "3.12.0"
  }
 },
 "nbformat": 4,
 "nbformat_minor": 2
}
